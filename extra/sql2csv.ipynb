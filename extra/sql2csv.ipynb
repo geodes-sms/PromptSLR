{
 "cells": [
  {
   "cell_type": "code",
   "execution_count": 1,
   "id": "dc3310a7",
   "metadata": {},
   "outputs": [],
   "source": [
    "import pandas as pd\n",
    "import mariadb"
   ]
  },
  {
   "cell_type": "code",
   "execution_count": 43,
   "id": "6569f516",
   "metadata": {},
   "outputs": [],
   "source": [
    "def sql2csv(ds, db):\n",
    "    print(f\"Processing {ds} dataset for {db} database\")\n",
    "    conn = mariadb.connect(\n",
    "    user=\"root\",\n",
    "    host=\"127.0.0.1\",\n",
    "    port=3306,\n",
    "    database=f\"relis_new_2_{db}\",\n",
    "    )\n",
    "    df = pd.read_sql(\"SELECT bibtexKey,bibtex FROM paper WHERE paper_active=1\", conn)\n",
    "    df2 = pd.read_csv(f\"../data/{ds}_golden.csv\", sep=\"\\t\")\n",
    "    df2 = df2.merge(df[['bibtexKey', 'bibtex']], left_on='key', right_on='bibtexKey', how='left')\n",
    "    df2.drop(columns='bibtexKey', inplace=True)\n",
    "    df2['bibtex'] = df2['bibtex'].apply(lambda x: x.strip().replace(\"\\n\", \" \").replace(\"\\r\", \" \").replace(\"\\t\", \" \").replace(\"  \", \" \") if pd.notnull(x) else x)\n",
    "    print(df2['bibtex'].isnull().sum())\n",
    "    print(df2['bibtex'].isna().sum())\n",
    "    df2.to_csv(f\"../data/bibtex/{ds}bibtex_golden.csv\", sep=\"\\t\", index=False)\n",
    "    conn.close()\n",
    "\n"
   ]
  },
  {
   "cell_type": "code",
   "execution_count": 44,
   "id": "66eb0018",
   "metadata": {},
   "outputs": [
    {
     "name": "stdout",
     "output_type": "stream",
     "text": [
      "Processing lc dataset for LC database\n",
      "1\n",
      "1\n",
      "Finished processing lc dataset for LC database\n",
      "Processing rl4se dataset for rl4se database\n",
      "0\n",
      "0\n",
      "Finished processing rl4se dataset for rl4se database\n",
      "Processing updatecollabmde dataset for smsUpdateCollabMDE database\n"
     ]
    },
    {
     "name": "stderr",
     "output_type": "stream",
     "text": [
      "/var/folders/1k/80lx72592v35qly0pj718f9w0000gn/T/ipykernel_77164/1623203815.py:9: UserWarning: pandas only supports SQLAlchemy connectable (engine/connection) or database string URI or sqlite3 DBAPI2 connection. Other DBAPI2 objects are not tested. Please consider using SQLAlchemy.\n",
      "  df = pd.read_sql(\"SELECT bibtexKey,bibtex FROM paper WHERE paper_active=1\", conn)\n",
      "/var/folders/1k/80lx72592v35qly0pj718f9w0000gn/T/ipykernel_77164/1623203815.py:9: UserWarning: pandas only supports SQLAlchemy connectable (engine/connection) or database string URI or sqlite3 DBAPI2 connection. Other DBAPI2 objects are not tested. Please consider using SQLAlchemy.\n",
      "  df = pd.read_sql(\"SELECT bibtexKey,bibtex FROM paper WHERE paper_active=1\", conn)\n",
      "/var/folders/1k/80lx72592v35qly0pj718f9w0000gn/T/ipykernel_77164/1623203815.py:9: UserWarning: pandas only supports SQLAlchemy connectable (engine/connection) or database string URI or sqlite3 DBAPI2 connection. Other DBAPI2 objects are not tested. Please consider using SQLAlchemy.\n",
      "  df = pd.read_sql(\"SELECT bibtexKey,bibtex FROM paper WHERE paper_active=1\", conn)\n"
     ]
    },
    {
     "name": "stdout",
     "output_type": "stream",
     "text": [
      "0\n",
      "0\n",
      "Finished processing updatecollabmde dataset for smsUpdateCollabMDE database\n",
      "Processing mpm4cps dataset for CPS database\n",
      "0\n",
      "0\n",
      "Finished processing mpm4cps dataset for CPS database\n"
     ]
    },
    {
     "name": "stderr",
     "output_type": "stream",
     "text": [
      "/var/folders/1k/80lx72592v35qly0pj718f9w0000gn/T/ipykernel_77164/1623203815.py:9: UserWarning: pandas only supports SQLAlchemy connectable (engine/connection) or database string URI or sqlite3 DBAPI2 connection. Other DBAPI2 objects are not tested. Please consider using SQLAlchemy.\n",
      "  df = pd.read_sql(\"SELECT bibtexKey,bibtex FROM paper WHERE paper_active=1\", conn)\n"
     ]
    }
   ],
   "source": [
    "ds_l = ['lc', 'rl4se', 'updatecollabmde', 'mpm4cps']\n",
    "db_l = ['LC', 'rl4se', 'smsUpdateCollabMDE', 'CPS']\n",
    "\n",
    "for ds, db in zip(ds_l, db_l):\n",
    "    sql2csv(ds, db)\n",
    "    print(f\"Finished processing {ds} dataset for {db} database\")"
   ]
  },
  {
   "cell_type": "code",
   "execution_count": 25,
   "id": "7c7fc5aa",
   "metadata": {},
   "outputs": [
    {
     "data": {
      "text/html": [
       "<div>\n",
       "<style scoped>\n",
       "    .dataframe tbody tr th:only-of-type {\n",
       "        vertical-align: middle;\n",
       "    }\n",
       "\n",
       "    .dataframe tbody tr th {\n",
       "        vertical-align: top;\n",
       "    }\n",
       "\n",
       "    .dataframe thead th {\n",
       "        text-align: right;\n",
       "    }\n",
       "</style>\n",
       "<table border=\"1\" class=\"dataframe\">\n",
       "  <thead>\n",
       "    <tr style=\"text-align: right;\">\n",
       "      <th></th>\n",
       "      <th>bibtexKey</th>\n",
       "      <th>bibtex</th>\n",
       "    </tr>\n",
       "  </thead>\n",
       "  <tbody>\n",
       "    <tr>\n",
       "      <th>0</th>\n",
       "      <td>Adeli2008</td>\n",
       "      <td>@INPROCEEDINGS{Adeli2008,\\n  author = {Adeli, ...</td>\n",
       "    </tr>\n",
       "    <tr>\n",
       "      <th>1</th>\n",
       "      <td>Ahmed2019</td>\n",
       "      <td>@INPROCEEDINGS{Ahmed2019,\\n  author = {Ahmed, ...</td>\n",
       "    </tr>\n",
       "    <tr>\n",
       "      <th>2</th>\n",
       "      <td>Akujuobi2005</td>\n",
       "      <td>@INPROCEEDINGS{Akujuobi2005,\\n  author = {Akuj...</td>\n",
       "    </tr>\n",
       "    <tr>\n",
       "      <th>3</th>\n",
       "      <td>Antkiewicz2006</td>\n",
       "      <td>@INPROCEEDINGS{Antkiewicz2006,\\n  author = {An...</td>\n",
       "    </tr>\n",
       "    <tr>\n",
       "      <th>4</th>\n",
       "      <td>Barateiro2011</td>\n",
       "      <td>@INPROCEEDINGS{Barateiro2011,\\n  author = {Bar...</td>\n",
       "    </tr>\n",
       "  </tbody>\n",
       "</table>\n",
       "</div>"
      ],
      "text/plain": [
       "        bibtexKey                                             bibtex\n",
       "0       Adeli2008  @INPROCEEDINGS{Adeli2008,\\n  author = {Adeli, ...\n",
       "1       Ahmed2019  @INPROCEEDINGS{Ahmed2019,\\n  author = {Ahmed, ...\n",
       "2    Akujuobi2005  @INPROCEEDINGS{Akujuobi2005,\\n  author = {Akuj...\n",
       "3  Antkiewicz2006  @INPROCEEDINGS{Antkiewicz2006,\\n  author = {An...\n",
       "4   Barateiro2011  @INPROCEEDINGS{Barateiro2011,\\n  author = {Bar..."
      ]
     },
     "execution_count": 25,
     "metadata": {},
     "output_type": "execute_result"
    }
   ],
   "source": [
    "df.head()"
   ]
  },
  {
   "cell_type": "code",
   "execution_count": 26,
   "id": "55e5a750",
   "metadata": {},
   "outputs": [],
   "source": [
    "df2 = pd.read_csv(\"../data/lc_golden.csv\", sep=\"\\t\")"
   ]
  },
  {
   "cell_type": "code",
   "execution_count": 27,
   "id": "cd8748c4",
   "metadata": {},
   "outputs": [
    {
     "data": {
      "text/html": [
       "<div>\n",
       "<style scoped>\n",
       "    .dataframe tbody tr th:only-of-type {\n",
       "        vertical-align: middle;\n",
       "    }\n",
       "\n",
       "    .dataframe tbody tr th {\n",
       "        vertical-align: top;\n",
       "    }\n",
       "\n",
       "    .dataframe thead th {\n",
       "        text-align: right;\n",
       "    }\n",
       "</style>\n",
       "<table border=\"1\" class=\"dataframe\">\n",
       "  <thead>\n",
       "    <tr style=\"text-align: right;\">\n",
       "      <th></th>\n",
       "      <th>project</th>\n",
       "      <th>key</th>\n",
       "      <th>title</th>\n",
       "      <th>abstract</th>\n",
       "      <th>doi</th>\n",
       "      <th>decision</th>\n",
       "      <th>mode</th>\n",
       "      <th>exclusion_criteria</th>\n",
       "      <th>reviewer_count</th>\n",
       "      <th>is_shot</th>\n",
       "      <th>is_english</th>\n",
       "    </tr>\n",
       "  </thead>\n",
       "  <tbody>\n",
       "    <tr>\n",
       "      <th>0</th>\n",
       "      <td>LC</td>\n",
       "      <td>Adeli2008</td>\n",
       "      <td>Inventing the future of neurology: Integrated ...</td>\n",
       "      <td>The author has been advancing a multi-paradigm...</td>\n",
       "      <td>NaN</td>\n",
       "      <td>Excluded</td>\n",
       "      <td>conflict_resolution</td>\n",
       "      <td>EC4: The article is not in the software engine...</td>\n",
       "      <td>4</td>\n",
       "      <td>False</td>\n",
       "      <td>True</td>\n",
       "    </tr>\n",
       "    <tr>\n",
       "      <th>1</th>\n",
       "      <td>LC</td>\n",
       "      <td>Ahmed2019</td>\n",
       "      <td>PAS-SNP: iOS App with GWAS SNP-Disease Databas...</td>\n",
       "      <td>To efficiently fathom the wealth of genomics a...</td>\n",
       "      <td>https://dx.doi.org/10.1109/BIBM47256.2019.8983389</td>\n",
       "      <td>Excluded</td>\n",
       "      <td>new_screen</td>\n",
       "      <td>EC4: The article is not in the software engine...</td>\n",
       "      <td>4</td>\n",
       "      <td>False</td>\n",
       "      <td>True</td>\n",
       "    </tr>\n",
       "    <tr>\n",
       "      <th>2</th>\n",
       "      <td>LC</td>\n",
       "      <td>Akujuobi2005</td>\n",
       "      <td>Development of an automation process for ADSL ...</td>\n",
       "      <td>There are issues of interoperability with digi...</td>\n",
       "      <td>https://dx.doi.org/10.1109/SSST.2005.1460913</td>\n",
       "      <td>Excluded</td>\n",
       "      <td>new_screen</td>\n",
       "      <td>EC4: The article is not in the software engine...</td>\n",
       "      <td>4</td>\n",
       "      <td>False</td>\n",
       "      <td>True</td>\n",
       "    </tr>\n",
       "    <tr>\n",
       "      <th>3</th>\n",
       "      <td>LC</td>\n",
       "      <td>Antkiewicz2006</td>\n",
       "      <td>Round-Trip Engineering of Framework-Based Soft...</td>\n",
       "      <td>This research combines three distinct areas: d...</td>\n",
       "      <td>https://dx.doi.org/10.1109/ASE.2006.58</td>\n",
       "      <td>Excluded</td>\n",
       "      <td>new_screen</td>\n",
       "      <td>EC1: The article is related to DS(M)Ls but not...</td>\n",
       "      <td>4</td>\n",
       "      <td>True</td>\n",
       "      <td>True</td>\n",
       "    </tr>\n",
       "    <tr>\n",
       "      <th>4</th>\n",
       "      <td>LC</td>\n",
       "      <td>Barateiro2011</td>\n",
       "      <td>Integrated management of risk information</td>\n",
       "      <td>Today's competitive environment requires effec...</td>\n",
       "      <td>NaN</td>\n",
       "      <td>Excluded</td>\n",
       "      <td>conflict_resolution</td>\n",
       "      <td>EC2: The article addresses the composition of ...</td>\n",
       "      <td>4</td>\n",
       "      <td>False</td>\n",
       "      <td>True</td>\n",
       "    </tr>\n",
       "  </tbody>\n",
       "</table>\n",
       "</div>"
      ],
      "text/plain": [
       "  project             key                                              title  \\\n",
       "0      LC       Adeli2008  Inventing the future of neurology: Integrated ...   \n",
       "1      LC       Ahmed2019  PAS-SNP: iOS App with GWAS SNP-Disease Databas...   \n",
       "2      LC    Akujuobi2005  Development of an automation process for ADSL ...   \n",
       "3      LC  Antkiewicz2006  Round-Trip Engineering of Framework-Based Soft...   \n",
       "4      LC   Barateiro2011          Integrated management of risk information   \n",
       "\n",
       "                                            abstract  \\\n",
       "0  The author has been advancing a multi-paradigm...   \n",
       "1  To efficiently fathom the wealth of genomics a...   \n",
       "2  There are issues of interoperability with digi...   \n",
       "3  This research combines three distinct areas: d...   \n",
       "4  Today's competitive environment requires effec...   \n",
       "\n",
       "                                                 doi  decision  \\\n",
       "0                                                NaN  Excluded   \n",
       "1  https://dx.doi.org/10.1109/BIBM47256.2019.8983389  Excluded   \n",
       "2       https://dx.doi.org/10.1109/SSST.2005.1460913  Excluded   \n",
       "3             https://dx.doi.org/10.1109/ASE.2006.58  Excluded   \n",
       "4                                                NaN  Excluded   \n",
       "\n",
       "                  mode                                 exclusion_criteria  \\\n",
       "0  conflict_resolution  EC4: The article is not in the software engine...   \n",
       "1           new_screen  EC4: The article is not in the software engine...   \n",
       "2           new_screen  EC4: The article is not in the software engine...   \n",
       "3           new_screen  EC1: The article is related to DS(M)Ls but not...   \n",
       "4  conflict_resolution  EC2: The article addresses the composition of ...   \n",
       "\n",
       "   reviewer_count  is_shot  is_english  \n",
       "0               4    False        True  \n",
       "1               4    False        True  \n",
       "2               4    False        True  \n",
       "3               4     True        True  \n",
       "4               4    False        True  "
      ]
     },
     "execution_count": 27,
     "metadata": {},
     "output_type": "execute_result"
    }
   ],
   "source": [
    "df2.head()"
   ]
  }
 ],
 "metadata": {
  "kernelspec": {
   "display_name": "promptslr",
   "language": "python",
   "name": "python3"
  },
  "language_info": {
   "codemirror_mode": {
    "name": "ipython",
    "version": 3
   },
   "file_extension": ".py",
   "mimetype": "text/x-python",
   "name": "python",
   "nbconvert_exporter": "python",
   "pygments_lexer": "ipython3",
   "version": "3.11.9"
  }
 },
 "nbformat": 4,
 "nbformat_minor": 5
}
