{
 "cells": [
  {
   "cell_type": "code",
   "execution_count": 5,
   "id": "69c1c1f2",
   "metadata": {},
   "outputs": [],
   "source": [
    "import os, sys\n",
    "sys.path.append(os.path.dirname(\"../\"))"
   ]
  },
  {
   "cell_type": "code",
   "execution_count": 6,
   "id": "69b7334e",
   "metadata": {},
   "outputs": [],
   "source": [
    "from utils.results import Results\n",
    "from utils.db_connector import DBConnector\n",
    "import pandas as pd\n"
   ]
  },
  {
   "cell_type": "code",
   "execution_count": 21,
   "id": "dcd05cab",
   "metadata": {},
   "outputs": [],
   "source": [
    "db = DBConnector()\n",
    "projects = db.run_query(\"\"\"SELECT \"ProjectID\",\"Name\" FROM \"Projects\" WHERE \"Name\" LIKE '%FINAL%';\"\"\")"
   ]
  },
  {
   "cell_type": "code",
   "execution_count": 22,
   "id": "c395d125",
   "metadata": {},
   "outputs": [],
   "source": [
    "projects = pd.DataFrame(projects, columns=[\"ProjectID\", \"Name\"])"
   ]
  },
  {
   "cell_type": "code",
   "execution_count": 23,
   "id": "53d27e0e",
   "metadata": {},
   "outputs": [
    {
     "data": {
      "text/html": [
       "<div>\n",
       "<style scoped>\n",
       "    .dataframe tbody tr th:only-of-type {\n",
       "        vertical-align: middle;\n",
       "    }\n",
       "\n",
       "    .dataframe tbody tr th {\n",
       "        vertical-align: top;\n",
       "    }\n",
       "\n",
       "    .dataframe thead th {\n",
       "        text-align: right;\n",
       "    }\n",
       "</style>\n",
       "<table border=\"1\" class=\"dataframe\">\n",
       "  <thead>\n",
       "    <tr style=\"text-align: right;\">\n",
       "      <th></th>\n",
       "      <th>ProjectID</th>\n",
       "      <th>Name</th>\n",
       "    </tr>\n",
       "  </thead>\n",
       "  <tbody>\n",
       "    <tr>\n",
       "      <th>0</th>\n",
       "      <td>f71e625e-4518-4bc1-8dbe-d5af3f723e07</td>\n",
       "      <td>Std-U1-Cn-Rn-EXn-INn-A-SH0-EXPn-RL4SE-FINAL</td>\n",
       "    </tr>\n",
       "    <tr>\n",
       "      <th>1</th>\n",
       "      <td>0c61fb04-3852-4be7-a591-44a09e28e03b</td>\n",
       "      <td>Std-U2-Cn-Rn-EXn-INn-A-SH0-EXPn-RL4SE-FINAL</td>\n",
       "    </tr>\n",
       "    <tr>\n",
       "      <th>2</th>\n",
       "      <td>22c37276-b207-4b5f-a971-07ee81e32163</td>\n",
       "      <td>Std-U3-Cn-Rn-EXn-INn-A-SH0-EXPn-RL4SE-FINAL</td>\n",
       "    </tr>\n",
       "    <tr>\n",
       "      <th>3</th>\n",
       "      <td>7e66cc56-0421-4edb-b4bb-f22a3bcf755c</td>\n",
       "      <td>Std-U0-Cy-Rn-EXn-INn-A-SH0-EXPn-RL4SE-FINAL</td>\n",
       "    </tr>\n",
       "    <tr>\n",
       "      <th>4</th>\n",
       "      <td>4adf729d-353c-43b9-b25e-143afc605f5d</td>\n",
       "      <td>Std-U1-Cy-Rn-EXn-INn-A-SH0-EXPn-RL4SE-FINAL</td>\n",
       "    </tr>\n",
       "  </tbody>\n",
       "</table>\n",
       "</div>"
      ],
      "text/plain": [
       "                              ProjectID  \\\n",
       "0  f71e625e-4518-4bc1-8dbe-d5af3f723e07   \n",
       "1  0c61fb04-3852-4be7-a591-44a09e28e03b   \n",
       "2  22c37276-b207-4b5f-a971-07ee81e32163   \n",
       "3  7e66cc56-0421-4edb-b4bb-f22a3bcf755c   \n",
       "4  4adf729d-353c-43b9-b25e-143afc605f5d   \n",
       "\n",
       "                                          Name  \n",
       "0  Std-U1-Cn-Rn-EXn-INn-A-SH0-EXPn-RL4SE-FINAL  \n",
       "1  Std-U2-Cn-Rn-EXn-INn-A-SH0-EXPn-RL4SE-FINAL  \n",
       "2  Std-U3-Cn-Rn-EXn-INn-A-SH0-EXPn-RL4SE-FINAL  \n",
       "3  Std-U0-Cy-Rn-EXn-INn-A-SH0-EXPn-RL4SE-FINAL  \n",
       "4  Std-U1-Cy-Rn-EXn-INn-A-SH0-EXPn-RL4SE-FINAL  "
      ]
     },
     "execution_count": 23,
     "metadata": {},
     "output_type": "execute_result"
    }
   ],
   "source": [
    "projects.head()"
   ]
  },
  {
   "cell_type": "code",
   "execution_count": 24,
   "id": "2cc42865",
   "metadata": {},
   "outputs": [
    {
     "name": "stdout",
     "output_type": "stream",
     "text": [
      "Processing Std-U1-Cn-Rn-EXn-INn-A-SH0-EXPn-RL4SE-FINAL (f71e625e-4518-4bc1-8dbe-d5af3f723e07)\n",
      "Processing Std-U2-Cn-Rn-EXn-INn-A-SH0-EXPn-RL4SE-FINAL (0c61fb04-3852-4be7-a591-44a09e28e03b)\n",
      "Processing Std-U3-Cn-Rn-EXn-INn-A-SH0-EXPn-RL4SE-FINAL (22c37276-b207-4b5f-a971-07ee81e32163)\n",
      "Processing Std-U0-Cy-Rn-EXn-INn-A-SH0-EXPn-RL4SE-FINAL (7e66cc56-0421-4edb-b4bb-f22a3bcf755c)\n",
      "Processing Std-U1-Cy-Rn-EXn-INn-A-SH0-EXPn-RL4SE-FINAL (4adf729d-353c-43b9-b25e-143afc605f5d)\n",
      "Processing Std-U2-Cy-Rn-EXn-INn-A-SH0-EXPn-RL4SE-FINAL (f7bc5d5f-c6cb-4949-a923-2aa32a156710)\n",
      "Processing Std-U3-Cy-Rn-EXn-INn-A-SH0-EXPn-RL4SE-FINAL (bff14c8b-5f9b-4857-bf60-236626978566)\n",
      "Processing Std-U1-Cn-Rn-EXn-INn-A-SH0-EXPn-LC-FINAL (38360a5c-ba2a-47b7-ad6d-a25067fc7f58)\n",
      "Processing Std-U2-Cn-Rn-EXn-INn-A-SH0-EXPn-LC-FINAL (c4178e0f-5dd5-4b56-9e25-0c6af5516f25)\n",
      "Processing Std-U3-Cn-Rn-EXn-INn-A-SH0-EXPn-LC-FINAL (d594e24b-fdfa-4504-8e8f-40f2e10b7ab0)\n",
      "Processing Std-U0-Cy-Rn-EXn-INn-A-SH0-EXPn-LC-FINAL (e5a0304c-7b16-41c4-8658-ff72e6682706)\n",
      "Processing Std-U1-Cy-Rn-EXn-INn-A-SH0-EXPn-LC-FINAL (d69debe7-1620-4fbf-9aa0-832397ee9331)\n",
      "Processing Std-U2-Cy-Rn-EXn-INn-A-SH0-EXPn-LC-FINAL (f823f6a6-0284-48cd-8bb6-542e4338845f)\n",
      "Processing Std-U3-Cy-Rn-EXn-INn-A-SH0-EXPn-LC-FINAL (70f750bb-16ac-4f1b-93a8-285a35e708eb)\n",
      "Processing Std-U1-Cn-Rn-EXn-INn-A-SH0-EXPn-MOBILEMDE-FINAL (b67b1b29-b8c4-4194-b6ff-9d62521c8d0b)\n",
      "Processing Std-U2-Cn-Rn-EXn-INn-A-SH0-EXPn-MOBILEMDE-FINAL (c8a22ad9-88d3-4371-92a8-e80fbe7cf0cb)\n",
      "Processing Std-U3-Cn-Rn-EXn-INn-A-SH0-EXPn-MOBILEMDE-FINAL (3b586b39-ff23-428a-abbb-00cc50a3f0c5)\n",
      "Processing Std-U0-Cy-Rn-EXn-INn-A-SH0-EXPn-MOBILEMDE-FINAL (542afa71-c7c4-4fae-9bcb-2294f5758726)\n",
      "Processing Std-U1-Cy-Rn-EXn-INn-A-SH0-EXPn-MOBILEMDE-FINAL (0532fa08-cfc7-496c-84a2-9b885250c67e)\n",
      "Processing Std-U2-Cy-Rn-EXn-INn-A-SH0-EXPn-MOBILEMDE-FINAL (62240df8-0b94-4d5d-ba53-65969b2eee80)\n",
      "Processing Std-U3-Cy-Rn-EXn-INn-A-SH0-EXPn-MOBILEMDE-FINAL (1f7d29f6-e0e8-4d7e-bceb-54d4f95e17a8)\n",
      "Processing Std-U1-Cn-Rn-EXn-INn-A-SH0-EXPn-MPM4CPS-FINAL (7789be64-b0c1-4f1d-b7aa-a5b7b9f7e387)\n",
      "Processing Std-U2-Cn-Rn-EXn-INn-A-SH0-EXPn-MPM4CPS-FINAL (39b4758d-f882-41ed-a897-7debbdff8dad)\n",
      "Processing Std-U3-Cn-Rn-EXn-INn-A-SH0-EXPn-MPM4CPS-FINAL (6ab49aa0-947b-47c8-befa-45175c10f312)\n",
      "Processing Std-U0-Cy-Rn-EXn-INn-A-SH0-EXPn-MPM4CPS-FINAL (2a044bb0-90e1-417f-a5c2-aeb589bb3253)\n",
      "Processing Std-U1-Cy-Rn-EXn-INn-A-SH0-EXPn-MPM4CPS-FINAL (82d61e43-33db-412c-b888-4b9f9f24f76e)\n",
      "Processing Std-U2-Cy-Rn-EXn-INn-A-SH0-EXPn-MPM4CPS-FINAL (062b5883-8f2d-411f-9702-719254461031)\n",
      "Processing Std-U3-Cy-Rn-EXn-INn-A-SH0-EXPn-MPM4CPS-FINAL (4ddb0696-dcdc-4a9f-8138-2ebd1fb75b11)\n",
      "Processing Std-U1-Cn-Rn-EXn-INn-A-SH0-EXPn-UPDATECOLLABMDE-FINAL (a687671e-955e-4cbc-b096-e34295324a38)\n",
      "Processing Std-U2-Cn-Rn-EXn-INn-A-SH0-EXPn-UPDATECOLLABMDE-FINAL (ef42ef0c-a32e-4ad6-8732-978695b1f365)\n",
      "Processing Std-U3-Cn-Rn-EXn-INn-A-SH0-EXPn-UPDATECOLLABMDE-FINAL (76cd8a14-2e84-46b5-80ba-1e4332d0cbb2)\n",
      "Processing Std-U0-Cy-Rn-EXn-INn-A-SH0-EXPn-UPDATECOLLABMDE-FINAL (f6f66194-cea7-41e6-a432-072ff7b32c33)\n",
      "Processing Std-U1-Cy-Rn-EXn-INn-A-SH0-EXPn-UPDATECOLLABMDE-FINAL (5964d0e2-7cba-494f-9bbb-0d5328599440)\n",
      "Processing Std-U2-Cy-Rn-EXn-INn-A-SH0-EXPn-UPDATECOLLABMDE-FINAL (36fb612e-da9d-472e-8bd9-e61795352ee5)\n",
      "Processing Std-U3-Cy-Rn-EXn-INn-A-SH0-EXPn-UPDATECOLLABMDE-FINAL (49ae231d-0e80-48ee-9664-bd9c15e7bf5e)\n",
      "Processing Std-U1-Cn-Rn-EXn-INn-A-SH0-EXPn-GAMESE-FINAL (09c07e9e-d1d7-40ba-b5e5-fb939c1914c0)\n",
      "Processing Std-U2-Cn-Rn-EXn-INn-A-SH0-EXPn-GAMESE-FINAL (1e810ffe-5ca7-4612-8f0b-87d77dc90372)\n",
      "Processing Std-U3-Cn-Rn-EXn-INn-A-SH0-EXPn-GAMESE-FINAL (9e3dcbf7-04ef-4dfb-953a-fcba4759a45d)\n",
      "Processing Std-U0-Cy-Rn-EXn-INn-A-SH0-EXPn-GAMESE-FINAL (272ceba2-1c1b-4a0c-a868-03a6fa58b48c)\n",
      "Processing Std-U1-Cy-Rn-EXn-INn-A-SH0-EXPn-GAMESE-FINAL (fc97ccad-7bf0-4a50-b703-7b096bf6bf23)\n",
      "Processing Std-U2-Cy-Rn-EXn-INn-A-SH0-EXPn-GAMESE-FINAL (352d5088-5542-4f7d-b22a-4208e42e8cd8)\n",
      "Processing Std-U3-Cy-Rn-EXn-INn-A-SH0-EXPn-GAMESE-FINAL (44662449-8ce0-4a07-b4d2-3c568309402c)\n",
      "Processing Std-U0-Cy-Ry-EXn-INn-A-SH0-EXPn-RL4SE-FINAL (9f719f4b-5677-41bd-b953-4a782025863d)\n",
      "Processing Std-U0-Cy-Rn-EXy-INn-A-SH0-EXPn-RL4SE-FINAL (cd5d0781-0e53-49f1-ae01-bc96aaa5d8f1)\n",
      "Processing Std-U0-Cy-Ry-EXn-INn-A-SH0-EXPn-LC-FINAL (e4ef7b24-0023-4b85-af6b-fd9a4ca9f43f)\n",
      "Processing Std-U0-Cy-Rn-EXy-INn-A-SH0-EXPn-LC-FINAL (1f889a8c-f08a-4aef-9686-b91f2a005c7c)\n",
      "Processing Std-U0-Cy-Rn-EXn-INy-AN-SH0-EXPn-LC-FINAL (654a8bd4-8829-4b43-9dab-f2c1671287b9)\n",
      "Processing Std-U0-Cy-Rn-EXn-INy-AL-SH0-EXPn-LC-FINAL (cb64ae8e-9a9b-47f0-a276-6d66c41e7a28)\n",
      "Processing Std-U0-Cy-Ry-EXn-INn-A-SH0-EXPn-MOBILEMDE-FINAL (0cdc1f5b-5452-4f7b-ac04-88f7b7862bff)\n",
      "Processing Std-U0-Cy-Rn-EXy-INn-A-SH0-EXPn-MOBILEMDE-FINAL (f7c69ebb-3d6e-4441-a5a3-62595966a43f)\n",
      "Processing Std-U0-Cy-Ry-EXn-INn-A-SH0-EXPn-MPM4CPS-FINAL (6e636601-d04d-4d66-a8a6-b93c8b89132d)\n",
      "Processing Std-U0-Cy-Rn-EXy-INn-A-SH0-EXPn-MPM4CPS-FINAL (721974a9-a844-4ff4-814f-6a6604f9c66b)\n",
      "Processing Std-U0-Cy-Rn-EXn-INy-AN-SH0-EXPn-MPM4CPS-FINAL (a9eb12c5-251e-4a14-9685-58949bedc924)\n",
      "Processing Std-U0-Cy-Rn-EXn-INy-AL-SH0-EXPn-MPM4CPS-FINAL (b733ac6a-7b73-45cc-b9a9-5b20feaafe33)\n",
      "Processing Std-U0-Cy-Ry-EXn-INn-A-SH0-EXPn-UPDATECOLLABMDE-FINAL (09495e01-2072-4388-8309-e34460ea9e22)\n",
      "Processing Std-U0-Cy-Rn-EXy-INn-A-SH0-EXPn-UPDATECOLLABMDE-FINAL (ccc3d5c4-2cbb-4656-88b4-0f13929b9b8d)\n",
      "Processing Std-U0-Cy-Rn-EXn-INn-A-SH1-EXPn-RL4SE-FINAL (f9f09ab9-da6a-4382-b543-47db92465ad5)\n",
      "Processing Std-U0-Cy-Rn-EXn-INn-A-SH2-EXPn-RL4SE-FINAL (445b0f13-f9d0-4533-abb0-c8dafc5e4d91)\n",
      "Processing Std-U0-Cy-Rn-EXn-INn-A-SH3-EXPn-RL4SE-FINAL (83fa5516-1b23-4b9f-ab38-e794cfb9c430)\n",
      "Processing Std-U0-Cy-Rn-EXn-INn-A-SH1-EXPn-LC-FINAL (7ec56f7c-cdd3-40b1-8ad7-abd49df63604)\n",
      "Processing Std-U0-Cy-Rn-EXn-INn-A-SH2-EXPn-LC-FINAL (295c2e7c-38a1-4f83-a283-831d6429d374)\n",
      "Processing Std-U0-Cy-Rn-EXn-INn-A-SH3-EXPn-LC-FINAL (f20bbde1-be8a-48cb-b4d3-0da989b4f76a)\n",
      "Processing Std-U0-Cy-Rn-EXn-INn-A-SH1-EXPn-MOBILEMDE-FINAL (965a8458-aedf-4c08-8cb7-9ccd1d956edb)\n",
      "Processing Std-U0-Cy-Rn-EXn-INn-A-SH2-EXPn-MOBILEMDE-FINAL (ea39162e-0c96-414a-8f45-5701147573ef)\n",
      "Processing Std-U0-Cy-Rn-EXn-INn-A-SH3-EXPn-MOBILEMDE-FINAL (4bf75ca6-dc85-4246-af1f-808452b6a752)\n",
      "Processing Std-U0-Cy-Rn-EXn-INn-A-SH1-EXPn-MPM4CPS-FINAL (3fea3469-8a0a-4879-879e-8db09c0100a9)\n",
      "Processing Std-U0-Cy-Rn-EXn-INn-A-SH2-EXPn-MPM4CPS-FINAL (7fcdc8ab-a680-4243-b6e6-27f4454dc805)\n",
      "Processing Std-U0-Cy-Rn-EXn-INn-A-SH3-EXPn-MPM4CPS-FINAL (7372d264-dfef-41b5-afb2-b81d1265ebbc)\n",
      "Processing Std-U0-Cy-Rn-EXn-INn-A-SH1-EXPn-UPDATECOLLABMDE-FINAL (6c817238-97b8-4369-80b1-a75f26a8121b)\n",
      "Processing Std-U0-Cy-Rn-EXn-INn-A-SH2-EXPn-UPDATECOLLABMDE-FINAL (ed9f756c-1a0f-4ba1-859a-93ce06aa2638)\n",
      "Processing Std-U0-Cy-Rn-EXn-INn-A-SH3-EXPn-UPDATECOLLABMDE-FINAL (79430b8a-948f-4e69-ac07-071aa340cea2)\n",
      "Processing Std-U0-Cy-Ry-EXy-INn-A-SH0-EXPn-LC-FINAL (3a6db0b1-1707-4bed-a47d-78dee6978086)\n",
      "Processing Std-U2-Cn-Rn-EXy-INn-A-SH0-EXPn-RL4SE-FINAL (d7111e1c-aa85-497b-83ca-62d61bea36bc)\n",
      "Processing Std-U2-Cn-Rn-EXn-INn-A-SH1-EXPn-RL4SE-FINAL (8c84bca3-31e0-4822-a430-dc21bc2578dd)\n",
      "Processing Std-U2-Cn-Rn-EXn-INn-A-SH2-EXPn-RL4SE-FINAL (8671af31-902a-4c6c-891f-657883599f9e)\n",
      "Processing Std-U2-Cn-Rn-EXn-INn-A-SH3-EXPn-RL4SE-FINAL (74b57f2c-f99c-4f8d-bccb-7d467f98061a)\n",
      "Processing Std-U2-Cn-Rn-EXy-INn-A-SH0-EXPn-LC-FINAL (8afe6238-e4b5-4526-99a6-83cf182b913e)\n",
      "Processing Std-U2-Cn-Rn-EXn-INy-AN-SH0-EXPn-LC-FINAL (eaf09c3b-b71c-4fd4-96d4-3855c8f9afdf)\n",
      "Processing Std-U2-Cn-Rn-EXn-INn-A-SH1-EXPn-LC-FINAL (9c491546-f77e-41f6-9eea-d39fc603d6ca)\n",
      "Processing Std-U2-Cn-Rn-EXn-INn-A-SH2-EXPn-LC-FINAL (879f5017-34fa-468d-abda-11fd383352fd)\n",
      "Processing Std-U2-Cn-Rn-EXn-INn-A-SH3-EXPn-LC-FINAL (f554db8f-a1a0-43d9-bfa6-ae0030234400)\n",
      "Processing Std-U2-Cn-Rn-EXy-INn-A-SH0-EXPn-MOBILEMDE-FINAL (b4b91a9c-9b72-4634-99d2-0c22152173f1)\n",
      "Processing Std-U2-Cn-Rn-EXn-INn-A-SH1-EXPn-MOBILEMDE-FINAL (bc32fd19-961e-4394-88d2-eaf8fd40f0ad)\n",
      "Processing Std-U2-Cn-Rn-EXn-INn-A-SH2-EXPn-MOBILEMDE-FINAL (aa2fe85e-7204-4c07-ae6e-cb1247e66341)\n",
      "Processing Std-U2-Cn-Rn-EXn-INn-A-SH3-EXPn-MOBILEMDE-FINAL (b0edc9e9-7f6a-4e11-bd6f-4853b4d0f350)\n",
      "Processing Std-U2-Cn-Rn-EXy-INn-A-SH0-EXPn-MPM4CPS-FINAL (363c5095-68a2-48ea-992d-df8f3a0a7d19)\n",
      "Processing Std-U2-Cn-Rn-EXn-INy-AN-SH0-EXPn-MPM4CPS-FINAL (bfe6ae5b-d3cb-41f2-ac1e-f29145cc6720)\n",
      "Processing Std-U2-Cn-Rn-EXn-INy-AL-SH0-EXPn-MPM4CPS-FINAL (e0a9476b-5adf-4ee1-a66b-6956bbdba60a)\n",
      "Processing Std-U2-Cn-Rn-EXn-INn-A-SH1-EXPn-MPM4CPS-FINAL (6bfbb801-e4b0-4ea0-9e9e-a276e6f9c808)\n",
      "Processing Std-U2-Cn-Rn-EXn-INn-A-SH2-EXPn-MPM4CPS-FINAL (574db721-f0db-4996-b5a3-7dc0bff94b2a)\n",
      "Processing Std-U2-Cn-Rn-EXn-INn-A-SH3-EXPn-MPM4CPS-FINAL (e361fe33-6ddf-4cc6-b5d1-e1f126edeaa8)\n",
      "Processing Std-U2-Cn-Rn-EXy-INn-A-SH0-EXPn-UPDATECOLLABMDE-FINAL (4f4c80bf-4381-47b6-a899-7ef5fac3663e)\n",
      "Processing Std-U2-Cn-Rn-EXn-INn-A-SH1-EXPn-UPDATECOLLABMDE-FINAL (b9b6f4e0-41d3-46a8-8eb4-d825ab309048)\n",
      "Processing Std-U2-Cn-Rn-EXn-INn-A-SH2-EXPn-UPDATECOLLABMDE-FINAL (c950af5c-e981-48d2-a7fd-b0a342a04e09)\n",
      "Processing Std-U2-Cn-Rn-EXn-INn-A-SH3-EXPn-UPDATECOLLABMDE-FINAL (bcbdba42-22ea-408b-bad2-3bff5182f235)\n",
      "Processing Std-U2-Cy-Rn-EXn-INn-A-SH0-EXPn-LC-FINAL-RANDOM (eb857360-b9be-4237-96dc-03bf1e98a30c)\n",
      "Error processing Std-U2-Cy-Rn-EXn-INn-A-SH0-EXPn-LC-FINAL-RANDOM (eb857360-b9be-4237-96dc-03bf1e98a30c): division by zero\n",
      "Processing Std-U2-Cy-Rn-EXn-INn-A-SH0-EXPn-LC-FINAL-RANDOM (6a0fe14b-5213-4808-aa05-e37ebf4b2a33)\n",
      "Error processing Std-U2-Cy-Rn-EXn-INn-A-SH0-EXPn-LC-FINAL-RANDOM (6a0fe14b-5213-4808-aa05-e37ebf4b2a33): division by zero\n",
      "Processing Std-U2-Cy-Rn-EXn-INn-A-SH0-EXPn-LC-FINAL-RANDOM (fc0b084f-7357-4fff-a653-b41c935b9399)\n",
      "Processing Std-U2-Cy-Rn-EXn-INn-A-SH0-EXPn-LC-FINAL-GPT-4-TURBO (b1c446c9-fb75-4c21-83e3-f2b43fa62038)\n",
      "Processing Std-U2-Cy-Rn-EXn-INn-A-SH0-EXPn-MPM4CPS-FINAL-GPT-4-TURBO (73a91e5a-1996-4ee9-b741-7372a5218e68)\n",
      "Processing Std-U2-Cy-Rn-EXn-INn-A-SH0-EXPn-UPDATECOLLABMDE-FINAL-GPT-4-TURBO (d289da20-41bd-4a47-9108-c1e4be4494aa)\n"
     ]
    }
   ],
   "source": [
    "for index, row in projects.iterrows():\n",
    "    project_id = row[\"ProjectID\"]\n",
    "    project_name = row[\"Name\"]\n",
    "    print(f\"Processing {project_name} ({project_id})\")\n",
    "    \n",
    "    # Get the results for the project\n",
    "    try:\n",
    "        results = Results(project_id)\n",
    "        metrics = {\n",
    "            \"MCC\": results.get_mcc(),\n",
    "            \"bacc\": results.get_balanced_accuracy(),\n",
    "            \"recall\": results.get_recall(),\n",
    "            \"precision\": results.get_precision(),\n",
    "            \"spec\": results.get_specificity(),\n",
    "            \"npv\": results.get_npv(),\n",
    "            \"acc\": results.get_accuracy()\n",
    "        }\n",
    "        for metric, value in metrics.items():\n",
    "            projects.at[index, metric] = value\n",
    "    except Exception as e:\n",
    "        print(f\"Error processing {project_name} ({project_id}): {e}\")\n",
    "        projects.at[index, \"MCC\"] = None\n",
    "        projects.at[index, \"bacc\"] = None\n",
    "        projects.at[index, \"recall\"] = None\n",
    "        projects.at[index, \"precision\"] = None\n",
    "        projects.at[index, \"spec\"] = None\n",
    "        projects.at[index, \"npv\"] = None\n",
    "        projects.at[index, \"acc\"] = None\n",
    "        "
   ]
  },
  {
   "cell_type": "code",
   "execution_count": 26,
   "id": "741b67e0",
   "metadata": {},
   "outputs": [
    {
     "name": "stdout",
     "output_type": "stream",
     "text": [
      "(101, 9)\n",
      "(99, 9)\n"
     ]
    }
   ],
   "source": [
    "print(projects.shape)\n",
    "print(projects.dropna().shape)"
   ]
  },
  {
   "cell_type": "code",
   "execution_count": 27,
   "id": "3e5a2c11",
   "metadata": {},
   "outputs": [],
   "source": [
    "projects.dropna(inplace=True)"
   ]
  },
  {
   "cell_type": "code",
   "execution_count": 28,
   "id": "fa0c20cf",
   "metadata": {},
   "outputs": [],
   "source": [
    "projects.to_excel(\"chp5_analysis.xlsx\", index=False)"
   ]
  },
  {
   "cell_type": "code",
   "execution_count": null,
   "id": "371b579f",
   "metadata": {},
   "outputs": [],
   "source": []
  }
 ],
 "metadata": {
  "kernelspec": {
   "display_name": "promptslr",
   "language": "python",
   "name": "python3"
  },
  "language_info": {
   "codemirror_mode": {
    "name": "ipython",
    "version": 3
   },
   "file_extension": ".py",
   "mimetype": "text/x-python",
   "name": "python",
   "nbconvert_exporter": "python",
   "pygments_lexer": "ipython3",
   "version": "3.11.9"
  }
 },
 "nbformat": 4,
 "nbformat_minor": 5
}
